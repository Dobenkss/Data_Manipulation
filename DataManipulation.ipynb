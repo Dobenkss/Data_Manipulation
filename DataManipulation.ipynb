{
  "nbformat": 4,
  "nbformat_minor": 0,
  "metadata": {
    "colab": {
      "provenance": [],
      "gpuType": "T4",
      "include_colab_link": true
    },
    "kernelspec": {
      "name": "python3",
      "display_name": "Python 3"
    },
    "language_info": {
      "name": "python"
    },
    "accelerator": "GPU"
  },
  "cells": [
    {
      "cell_type": "markdown",
      "metadata": {
        "id": "view-in-github",
        "colab_type": "text"
      },
      "source": [
        "<a href=\"https://colab.research.google.com/github/Dobenkss/Data_Manipulation/blob/main/DataManipulation.ipynb\" target=\"_parent\"><img src=\"https://colab.research.google.com/assets/colab-badge.svg\" alt=\"Open In Colab\"/></a>"
      ]
    },
    {
      "cell_type": "markdown",
      "source": [
        "# Data Mahasiswa\n",
        "Nama: Abhipraya Rasendriya Atma Ardany<br />\n",
        "Nim: 24.21.1587<br />\n",
        "Kelas: IF08<br />"
      ],
      "metadata": {
        "id": "zesBLwhodZAF"
      }
    },
    {
      "cell_type": "markdown",
      "source": [
        "#Installasi PySpark"
      ],
      "metadata": {
        "id": "NTJ9U8WUbK9f"
      }
    },
    {
      "cell_type": "code",
      "source": [
        "!pip install pyspark"
      ],
      "metadata": {
        "id": "ICaJfB-ggDpa",
        "colab": {
          "base_uri": "https://localhost:8080/"
        },
        "outputId": "6943aeed-6e30-489a-982e-d32d27fe0445"
      },
      "execution_count": null,
      "outputs": [
        {
          "output_type": "stream",
          "name": "stdout",
          "text": [
            "Collecting pyspark\n",
            "  Downloading pyspark-3.5.3.tar.gz (317.3 MB)\n",
            "\u001b[2K     \u001b[90m━━━━━━━━━━━━━━━━━━━━━━━━━━━━━━━━━━━━━━━━\u001b[0m \u001b[32m317.3/317.3 MB\u001b[0m \u001b[31m1.6 MB/s\u001b[0m eta \u001b[36m0:00:00\u001b[0m\n",
            "\u001b[?25h  Preparing metadata (setup.py) ... \u001b[?25l\u001b[?25hdone\n",
            "Requirement already satisfied: py4j==0.10.9.7 in /usr/local/lib/python3.10/dist-packages (from pyspark) (0.10.9.7)\n",
            "Building wheels for collected packages: pyspark\n",
            "  Building wheel for pyspark (setup.py) ... \u001b[?25l\u001b[?25hdone\n",
            "  Created wheel for pyspark: filename=pyspark-3.5.3-py2.py3-none-any.whl size=317840625 sha256=0694d886cee465ea409b2bb01e1af1e5b3ea9afc5a59abadf7e4010ad2bbe6af\n",
            "  Stored in directory: /root/.cache/pip/wheels/1b/3a/92/28b93e2fbfdbb07509ca4d6f50c5e407f48dce4ddbda69a4ab\n",
            "Successfully built pyspark\n",
            "Installing collected packages: pyspark\n",
            "Successfully installed pyspark-3.5.3\n"
          ]
        }
      ]
    },
    {
      "cell_type": "markdown",
      "source": [
        "#Start Spark Session"
      ],
      "metadata": {
        "id": "iDLt3CQ9bOz8"
      }
    },
    {
      "cell_type": "code",
      "source": [
        "from pyspark.sql import SparkSession\n",
        "\n",
        "spark = SparkSession.builder.getOrCreate()\n",
        "print(spark)\n",
        "print(spark.version)"
      ],
      "metadata": {
        "id": "v8N3tql5gMcE",
        "colab": {
          "base_uri": "https://localhost:8080/"
        },
        "outputId": "42322439-037d-4a2b-f299-f0b81fdf0827"
      },
      "execution_count": null,
      "outputs": [
        {
          "output_type": "stream",
          "name": "stdout",
          "text": [
            "<pyspark.sql.session.SparkSession object at 0x7fcfb91e1d50>\n",
            "3.5.3\n"
          ]
        }
      ]
    },
    {
      "cell_type": "markdown",
      "source": [
        "#Import Dataset"
      ],
      "metadata": {
        "id": "nfoBJMNJbajK"
      }
    },
    {
      "cell_type": "code",
      "source": [
        "from google.colab import drive\n",
        "drive.mount('/content/drive')"
      ],
      "metadata": {
        "id": "qdTCJwtDgOAZ",
        "colab": {
          "base_uri": "https://localhost:8080/"
        },
        "outputId": "8f9ab851-9ef6-4b80-ab36-b48cddf3ae76"
      },
      "execution_count": null,
      "outputs": [
        {
          "output_type": "stream",
          "name": "stdout",
          "text": [
            "Mounted at /content/drive\n"
          ]
        }
      ]
    },
    {
      "cell_type": "code",
      "source": [
        "file_path = '/content/drive/My Drive/Big Data/Pertemuan 2/flights_small.csv'\n",
        "flights = spark.read.csv(file_path, header=True, inferSchema=True)\n",
        "\n",
        "flights.show()"
      ],
      "metadata": {
        "colab": {
          "base_uri": "https://localhost:8080/"
        },
        "id": "5KqWi-YLI8Ex",
        "outputId": "7995235b-9ae7-47fd-f426-bcaa6d1af6f1"
      },
      "execution_count": null,
      "outputs": [
        {
          "output_type": "stream",
          "name": "stdout",
          "text": [
            "+----+-----+---+--------+---------+--------+---------+-------+-------+------+------+----+--------+--------+----+------+\n",
            "|year|month|day|dep_time|dep_delay|arr_time|arr_delay|carrier|tailnum|flight|origin|dest|air_time|distance|hour|minute|\n",
            "+----+-----+---+--------+---------+--------+---------+-------+-------+------+------+----+--------+--------+----+------+\n",
            "|2014|   12|  8|     658|       -7|     935|       -5|     VX| N846VA|  1780|   SEA| LAX|     132|     954|   6|    58|\n",
            "|2014|    1| 22|    1040|        5|    1505|        5|     AS| N559AS|   851|   SEA| HNL|     360|    2677|  10|    40|\n",
            "|2014|    3|  9|    1443|       -2|    1652|        2|     VX| N847VA|   755|   SEA| SFO|     111|     679|  14|    43|\n",
            "|2014|    4|  9|    1705|       45|    1839|       34|     WN| N360SW|   344|   PDX| SJC|      83|     569|  17|     5|\n",
            "|2014|    3|  9|     754|       -1|    1015|        1|     AS| N612AS|   522|   SEA| BUR|     127|     937|   7|    54|\n",
            "|2014|    1| 15|    1037|        7|    1352|        2|     WN| N646SW|    48|   PDX| DEN|     121|     991|  10|    37|\n",
            "|2014|    7|  2|     847|       42|    1041|       51|     WN| N422WN|  1520|   PDX| OAK|      90|     543|   8|    47|\n",
            "|2014|    5| 12|    1655|       -5|    1842|      -18|     VX| N361VA|   755|   SEA| SFO|      98|     679|  16|    55|\n",
            "|2014|    4| 19|    1236|       -4|    1508|       -7|     AS| N309AS|   490|   SEA| SAN|     135|    1050|  12|    36|\n",
            "|2014|   11| 19|    1812|       -3|    2352|       -4|     AS| N564AS|    26|   SEA| ORD|     198|    1721|  18|    12|\n",
            "|2014|   11|  8|    1653|       -2|    1924|       -1|     AS| N323AS|   448|   SEA| LAX|     130|     954|  16|    53|\n",
            "|2014|    8|  3|    1120|        0|    1415|        2|     AS| N305AS|   656|   SEA| PHX|     154|    1107|  11|    20|\n",
            "|2014|   10| 30|     811|       21|    1038|       29|     AS| N433AS|   608|   SEA| LAS|     127|     867|   8|    11|\n",
            "|2014|   11| 12|    2346|       -4|     217|      -28|     AS| N765AS|   121|   SEA| ANC|     183|    1448|  23|    46|\n",
            "|2014|   10| 31|    1314|       89|    1544|      111|     AS| N713AS|   306|   SEA| SFO|     129|     679|  13|    14|\n",
            "|2014|    1| 29|    2009|        3|    2159|        9|     UA| N27205|  1458|   PDX| SFO|      90|     550|  20|     9|\n",
            "|2014|   12| 17|    2015|       50|    2150|       41|     AS| N626AS|   368|   SEA| SMF|      76|     605|  20|    15|\n",
            "|2014|    8| 11|    1017|       -3|    1613|       -7|     WN| N8634A|   827|   SEA| MDW|     216|    1733|  10|    17|\n",
            "|2014|    1| 13|    2156|       -9|     607|      -15|     AS| N597AS|    24|   SEA| BOS|     290|    2496|  21|    56|\n",
            "|2014|    6|  5|    1733|      -12|    1945|      -10|     OO| N215AG|  3488|   PDX| BUR|     111|     817|  17|    33|\n",
            "+----+-----+---+--------+---------+--------+---------+-------+-------+------+------+----+--------+--------+----+------+\n",
            "only showing top 20 rows\n",
            "\n"
          ]
        }
      ]
    },
    {
      "cell_type": "markdown",
      "source": [
        "#Filtering Data\n",
        "\n",
        "Lakukan filtering data pada dataset dengan mencari nilai kurang dari 1000 dari feature arr_time, dan tunjukkan hasilnya"
      ],
      "metadata": {
        "id": "-JbH75L5bcZ9"
      }
    },
    {
      "cell_type": "code",
      "source": [
        "filter_flights = flights.filter(flights.arr_time < 1000)\n",
        "\n",
        "filter_flights.show()"
      ],
      "metadata": {
        "id": "N-wS56GngP68",
        "colab": {
          "base_uri": "https://localhost:8080/"
        },
        "outputId": "eb0f4f5d-2f3a-4c56-edf4-222cdded6ff5"
      },
      "execution_count": null,
      "outputs": [
        {
          "output_type": "stream",
          "name": "stdout",
          "text": [
            "+----+-----+---+--------+---------+--------+---------+-------+-------+------+------+----+--------+--------+----+------+\n",
            "|year|month|day|dep_time|dep_delay|arr_time|arr_delay|carrier|tailnum|flight|origin|dest|air_time|distance|hour|minute|\n",
            "+----+-----+---+--------+---------+--------+---------+-------+-------+------+------+----+--------+--------+----+------+\n",
            "|2014|   12|  8|     658|       -7|     935|       -5|     VX| N846VA|  1780|   SEA| LAX|     132|     954|   6|    58|\n",
            "|2014|   11| 12|    2346|       -4|     217|      -28|     AS| N765AS|   121|   SEA| ANC|     183|    1448|  23|    46|\n",
            "|2014|    1| 13|    2156|       -9|     607|      -15|     AS| N597AS|    24|   SEA| BOS|     290|    2496|  21|    56|\n",
            "|2014|   10| 29|     643|        3|     851|        2|     OO| N218AG|  3456|   PDX| BUR|     108|     817|   6|    43|\n",
            "|2014|    2| 25|     555|       -5|     819|       -3|     AS| N549AS|   604|   SEA| LAS|     121|     867|   5|    55|\n",
            "|2014|   12| 14|     633|       -7|     841|       -9|     OO| N951SW|  3456|   PDX| BUR|     107|     817|   6|    33|\n",
            "|2014|    6|  2|    2222|        7|      55|       15|     AS| N402AS|    99|   SEA| ANC|     190|    1448|  22|    22|\n",
            "|2014|    5| 21|     515|        0|     757|        0|     US| N172US|   593|   SEA| PHX|     143|    1107|   5|    15|\n",
            "|2014|    3| 13|    2201|        1|     554|      -14|     UA| N37468|  1275|   SEA| EWR|     268|    2402|  22|     1|\n",
            "|2014|    7|  5|    2224|       -1|      48|      -20|     AS| N459AS|   143|   PDX| ANC|     185|    1542|  22|    24|\n",
            "|2014|    7|  7|     602|        2|     806|        5|     AS| N453AS|   200|   SEA| SJC|     104|     697|   6|     2|\n",
            "|2014|   12| 17|    2234|      223|      11|      212|     UA| N39450|  1596|   PDX| SFO|      76|     550|  22|    34|\n",
            "|2014|    8| 25|     711|       -4|     843|      -27|     WN| N244WN|   159|   PDX| SJC|      77|     569|   7|    11|\n",
            "|2014|   12| 26|    2337|        0|     741|       -1|     DL| N3760C|  1358|   PDX| JFK|     274|    2454|  23|    37|\n",
            "|2014|   11| 25|     559|      -11|     914|      -27|     F9| N208FR|   144|   SEA| DEN|     112|    1024|   5|    59|\n",
            "|2014|   10| 15|    2244|        5|     607|        3|     DL| N816DN|  2497|   PDX| ATL|     233|    2172|  22|    44|\n",
            "|2014|    8|  6|     735|       -5|     829|      -18|     AS| N703AS|    65|   SEA| KTN|      98|     680|   7|    35|\n",
            "|2014|   12|  1|    2210|        0|     124|       11|     AS| N538AS|   143|   PDX| ANC|     225|    1542|  22|    10|\n",
            "|2014|    7| 18|     541|        1|     911|       -1|     UA| N16234|  1578|   SEA| DEN|     131|    1024|   5|    41|\n",
            "|2014|    8|  3|     653|       -7|     920|       -6|     AS| N612AS|   582|   PDX| SNA|     133|     859|   6|    53|\n",
            "+----+-----+---+--------+---------+--------+---------+-------+-------+------+------+----+--------+--------+----+------+\n",
            "only showing top 20 rows\n",
            "\n"
          ]
        }
      ]
    },
    {
      "cell_type": "markdown",
      "source": [
        "#Select Data\n",
        "\n",
        "Lakukan select data dengan feature carrier, tailnum, dan distance. Filter A berdasarkan feature carrier yang memiliki value \"AS\", dan filter B menggunakan feature dest yang memiliki value \"SEA\". Munculkan hasil dari proses filter"
      ],
      "metadata": {
        "id": "5OaF-DOlbtM4"
      }
    },
    {
      "cell_type": "code",
      "source": [
        "selectData = flights.select('carrier','tailnum','distance', 'dest')\n",
        "\n",
        "filterA = flights.carrier == \"AS\"\n",
        "filterB = flights.dest == \"SEA\"\n",
        "\n",
        "selected = selectData.filter(filterA).filter(filterB)\n",
        "print(selected.show())"
      ],
      "metadata": {
        "id": "RQJcJMXNgSxz",
        "colab": {
          "base_uri": "https://localhost:8080/"
        },
        "outputId": "317e2b7f-65de-4ec0-d4d4-563ffa4fcfa2"
      },
      "execution_count": null,
      "outputs": [
        {
          "output_type": "stream",
          "name": "stdout",
          "text": [
            "+-------+-------+--------+----+\n",
            "|carrier|tailnum|distance|dest|\n",
            "+-------+-------+--------+----+\n",
            "|     AS| N791AS|     129| SEA|\n",
            "|     AS| N320AS|     129| SEA|\n",
            "|     AS| N799AS|     129| SEA|\n",
            "|     AS| N760AS|     129| SEA|\n",
            "|     AS| N520AS|     129| SEA|\n",
            "|     AS| N556AS|     129| SEA|\n",
            "|     AS| N705AS|     129| SEA|\n",
            "|     AS| N796AS|     129| SEA|\n",
            "|     AS| N536AS|     129| SEA|\n",
            "|     AS| N529AS|     129| SEA|\n",
            "+-------+-------+--------+----+\n",
            "\n",
            "None\n"
          ]
        }
      ]
    },
    {
      "cell_type": "markdown",
      "source": [
        "#Data Agregation\n",
        "\n",
        "Lakukan proses agregasi data dengan memunculkan count, mean, standard deviasi, minimal value, dan max value. Gunakan feature dep_delay, dan arr_delay"
      ],
      "metadata": {
        "id": "YLSjbectcREL"
      }
    },
    {
      "cell_type": "code",
      "source": [
        "flights = flights.withColumn('dep_delay', flights.dep_delay.cast('float'))\n",
        "flights = flights.withColumn('arr_delay', flights.arr_delay.cast('float'))\n",
        "\n",
        "flights.describe('arr_delay', 'dep_delay').show()"
      ],
      "metadata": {
        "id": "N3GwHafhgUW-",
        "colab": {
          "base_uri": "https://localhost:8080/"
        },
        "outputId": "1984c588-cde0-4de4-c398-1c979e51668b"
      },
      "execution_count": null,
      "outputs": [
        {
          "output_type": "stream",
          "name": "stdout",
          "text": [
            "+-------+------------------+------------------+\n",
            "|summary|         arr_delay|         dep_delay|\n",
            "+-------+------------------+------------------+\n",
            "|  count|              9925|              9952|\n",
            "|   mean|2.2530982367758186| 6.068629421221865|\n",
            "| stddev|31.074918600451877|28.808608062751805|\n",
            "|    min|             -58.0|             -19.0|\n",
            "|    max|             900.0|             886.0|\n",
            "+-------+------------------+------------------+\n",
            "\n"
          ]
        }
      ]
    },
    {
      "cell_type": "markdown",
      "source": [
        "#Grouping & Aggregation\n",
        "\n",
        "Lakukan grouping dan aggregation menggunakan feature month, dan dest untuk menghitung rata-rata nilai dari feature arr_delay"
      ],
      "metadata": {
        "id": "futf-NwNdAO6"
      }
    },
    {
      "cell_type": "code",
      "source": [
        "import pyspark.sql.functions as F\n",
        "\n",
        "by_month_dest = flights.groupBy('month', 'dest')\n",
        "\n",
        "flights = flights.withColumn('arr_delay', flights.arr_delay.cast('float'))\n",
        "\n",
        "by_month_dest.avg('arr_delay').show()"
      ],
      "metadata": {
        "id": "ozDt-ga8bAwk",
        "colab": {
          "base_uri": "https://localhost:8080/"
        },
        "outputId": "15783208-f96d-412e-c204-e8c24995e478"
      },
      "execution_count": null,
      "outputs": [
        {
          "output_type": "stream",
          "name": "stdout",
          "text": [
            "+-----+----+-------------------+\n",
            "|month|dest|     avg(arr_delay)|\n",
            "+-----+----+-------------------+\n",
            "|    4| PHX|-3.1333333333333333|\n",
            "|    1| RDM|             -1.625|\n",
            "|    5| ONT|  3.111111111111111|\n",
            "|    7| OMA|               -9.0|\n",
            "|    8| MDW|               6.55|\n",
            "|    6| DEN|               -1.0|\n",
            "|    5| IAD|-13.444444444444445|\n",
            "|   12| COS|                7.0|\n",
            "|   11| ANC| -5.235294117647059|\n",
            "|    5| AUS|               -3.5|\n",
            "|    5| COS| 15.666666666666666|\n",
            "|    2| PSP|                5.8|\n",
            "|    4| ORD| -4.560975609756097|\n",
            "|   10| DFW| 14.515151515151516|\n",
            "|   10| DCA|              -13.0|\n",
            "|    8| JNU|              17.75|\n",
            "|   11| KOA|               -1.8|\n",
            "|   10| OMA|               -3.0|\n",
            "|    6| ONT|                3.0|\n",
            "|    3| MSP|              -2.95|\n",
            "+-----+----+-------------------+\n",
            "only showing top 20 rows\n",
            "\n"
          ]
        }
      ]
    }
  ]
}